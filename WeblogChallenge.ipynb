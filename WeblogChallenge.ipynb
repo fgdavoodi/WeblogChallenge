{
 "cells": [
  {
   "cell_type": "markdown",
   "metadata": {},
   "source": [
    "# Processing and analyzing weblog data"
   ]
  },
  {
   "cell_type": "markdown",
   "metadata": {},
   "source": [
    "# Importing libraries"
   ]
  },
  {
   "cell_type": "code",
   "execution_count": 1,
   "metadata": {
    "collapsed": false
   },
   "outputs": [],
   "source": [
    "import pandas as pd\n",
    "import sys\n",
    "import numpy as np\n",
    "import pandas_profiling\n",
    "from datetime import timedelta"
   ]
  },
  {
   "cell_type": "markdown",
   "metadata": {},
   "source": [
    "# Processing and loading the data"
   ]
  },
  {
   "cell_type": "code",
   "execution_count": 2,
   "metadata": {
    "collapsed": true
   },
   "outputs": [],
   "source": [
    "filePath= r'D:\\WeblogChallenge-master\\data\\2015_07_22_mktplace_shop_web_log_sample.log'\n",
    "\n",
    "convertRequest= lambda x: 'NULL' if x == \"- - - \" else x\n",
    "convertUser= lambda x: 'NULL' if x=='-' else x\n",
    "convertCliper= lambda x: 'NULL' if x=='-' else x\n",
    "convertProtocol= lambda x: 'NULL' if x=='-' else x\n",
    "convertBackendPort= lambda x: 'NULL' if x=='-' else x\n",
    "\n",
    "df= pd.read_csv (filePath, converters= { 'request': convertRequest, 'user_agent':convertUser, 'backend:port': convertBackendPort,'ssl_cipher':convertCliper, 'ssl_protocol': convertProtocol},\n",
    "               delim_whitespace= True, quotechar= '\"', \n",
    "                 names=['timestamp', 'elb', 'client:port', 'backend:port', 'request_processing_time','backend_processing_time', \n",
    "                       'response_processing_time', 'elb_status_code','backend_status_code', 'received_bytes', 'sent_bytes', 'request',\n",
    "                       'user_agent', 'ssl_cipher', 'ssl_protocol'])"
   ]
  },
  {
   "cell_type": "markdown",
   "metadata": {},
   "source": [
    "# Looking into the data"
   ]
  },
  {
   "cell_type": "code",
   "execution_count": 3,
   "metadata": {
    "collapsed": false
   },
   "outputs": [],
   "source": [
    "#pandas_profiling.ProfileReport(df)"
   ]
  },
  {
   "cell_type": "markdown",
   "metadata": {},
   "source": [
    "# Sessionizing the data"
   ]
  },
  {
   "cell_type": "code",
   "execution_count": 4,
   "metadata": {
    "collapsed": false
   },
   "outputs": [
    {
     "data": {
      "text/html": [
       "<div>\n",
       "<table border=\"1\" class=\"dataframe\">\n",
       "  <thead>\n",
       "    <tr style=\"text-align: right;\">\n",
       "      <th></th>\n",
       "      <th>client:port</th>\n",
       "      <th>request</th>\n",
       "      <th>timestamp</th>\n",
       "      <th>prev_timestamp</th>\n",
       "    </tr>\n",
       "  </thead>\n",
       "  <tbody>\n",
       "    <tr>\n",
       "      <th>109956</th>\n",
       "      <td>1.186.101.79:50613</td>\n",
       "      <td>GET https://paytm.com:443/shop/wallet/txnhisto...</td>\n",
       "      <td>2015-07-22T10:45:55.885488Z</td>\n",
       "      <td>NaN</td>\n",
       "    </tr>\n",
       "    <tr>\n",
       "      <th>122788</th>\n",
       "      <td>1.186.101.79:50613</td>\n",
       "      <td>GET https://paytm.com:443/shop/v1/frequentorde...</td>\n",
       "      <td>2015-07-22T10:46:27.839734Z</td>\n",
       "      <td>2015-07-22T10:45:55.885488Z</td>\n",
       "    </tr>\n",
       "    <tr>\n",
       "      <th>134527</th>\n",
       "      <td>1.186.101.79:50613</td>\n",
       "      <td>POST https://paytm.com:443/papi/v1/expresscart...</td>\n",
       "      <td>2015-07-22T10:46:56.591943Z</td>\n",
       "      <td>2015-07-22T10:46:27.839734Z</td>\n",
       "    </tr>\n",
       "    <tr>\n",
       "      <th>136716</th>\n",
       "      <td>1.186.101.79:50613</td>\n",
       "      <td>POST https://paytm.com:443/api/v1/expresscart/...</td>\n",
       "      <td>2015-07-22T10:47:01.782695Z</td>\n",
       "      <td>2015-07-22T10:46:56.591943Z</td>\n",
       "    </tr>\n",
       "    <tr>\n",
       "      <th>138619</th>\n",
       "      <td>1.186.101.79:50613</td>\n",
       "      <td>GET https://paytm.com:443/shop/summary/1116587...</td>\n",
       "      <td>2015-07-22T10:47:06.893987Z</td>\n",
       "      <td>2015-07-22T10:47:01.782695Z</td>\n",
       "    </tr>\n",
       "  </tbody>\n",
       "</table>\n",
       "</div>"
      ],
      "text/plain": [
       "               client:port                                            request  \\\n",
       "109956  1.186.101.79:50613  GET https://paytm.com:443/shop/wallet/txnhisto...   \n",
       "122788  1.186.101.79:50613  GET https://paytm.com:443/shop/v1/frequentorde...   \n",
       "134527  1.186.101.79:50613  POST https://paytm.com:443/papi/v1/expresscart...   \n",
       "136716  1.186.101.79:50613  POST https://paytm.com:443/api/v1/expresscart/...   \n",
       "138619  1.186.101.79:50613  GET https://paytm.com:443/shop/summary/1116587...   \n",
       "\n",
       "                          timestamp               prev_timestamp  \n",
       "109956  2015-07-22T10:45:55.885488Z                          NaN  \n",
       "122788  2015-07-22T10:46:27.839734Z  2015-07-22T10:45:55.885488Z  \n",
       "134527  2015-07-22T10:46:56.591943Z  2015-07-22T10:46:27.839734Z  \n",
       "136716  2015-07-22T10:47:01.782695Z  2015-07-22T10:46:56.591943Z  \n",
       "138619  2015-07-22T10:47:06.893987Z  2015-07-22T10:47:01.782695Z  "
      ]
     },
     "execution_count": 4,
     "metadata": {},
     "output_type": "execute_result"
    }
   ],
   "source": [
    "# Sort the data and find the previous time for each client\n",
    "dfIpReqTime= df[['client:port', 'request', 'timestamp']].sort_values(['client:port','timestamp'], ascending= [True, True])\n",
    "dfIpReqTime['prev_timestamp']= dfIpReqTime.groupby(\"client:port\") ['timestamp'].shift(1)\n",
    "dfIpReqTime.head()"
   ]
  },
  {
   "cell_type": "markdown",
   "metadata": {},
   "source": [
    "## Window time: 15 minutes"
   ]
  },
  {
   "cell_type": "code",
   "execution_count": 5,
   "metadata": {
    "collapsed": false
   },
   "outputs": [
    {
     "data": {
      "text/html": [
       "<div>\n",
       "<table border=\"1\" class=\"dataframe\">\n",
       "  <thead>\n",
       "    <tr style=\"text-align: right;\">\n",
       "      <th></th>\n",
       "      <th>client:port</th>\n",
       "      <th>request</th>\n",
       "      <th>timestamp</th>\n",
       "      <th>prev_timestamp</th>\n",
       "      <th>interval</th>\n",
       "      <th>new_session</th>\n",
       "    </tr>\n",
       "  </thead>\n",
       "  <tbody>\n",
       "    <tr>\n",
       "      <th>109956</th>\n",
       "      <td>1.186.101.79:50613</td>\n",
       "      <td>GET https://paytm.com:443/shop/wallet/txnhisto...</td>\n",
       "      <td>2015-07-22 10:45:55.885488</td>\n",
       "      <td>NaT</td>\n",
       "      <td>NaT</td>\n",
       "      <td>0</td>\n",
       "    </tr>\n",
       "    <tr>\n",
       "      <th>122788</th>\n",
       "      <td>1.186.101.79:50613</td>\n",
       "      <td>GET https://paytm.com:443/shop/v1/frequentorde...</td>\n",
       "      <td>2015-07-22 10:46:27.839734</td>\n",
       "      <td>2015-07-22 10:45:55.885488</td>\n",
       "      <td>00:00:31.954246</td>\n",
       "      <td>0</td>\n",
       "    </tr>\n",
       "    <tr>\n",
       "      <th>134527</th>\n",
       "      <td>1.186.101.79:50613</td>\n",
       "      <td>POST https://paytm.com:443/papi/v1/expresscart...</td>\n",
       "      <td>2015-07-22 10:46:56.591943</td>\n",
       "      <td>2015-07-22 10:46:27.839734</td>\n",
       "      <td>00:00:28.752209</td>\n",
       "      <td>0</td>\n",
       "    </tr>\n",
       "    <tr>\n",
       "      <th>136716</th>\n",
       "      <td>1.186.101.79:50613</td>\n",
       "      <td>POST https://paytm.com:443/api/v1/expresscart/...</td>\n",
       "      <td>2015-07-22 10:47:01.782695</td>\n",
       "      <td>2015-07-22 10:46:56.591943</td>\n",
       "      <td>00:00:05.190752</td>\n",
       "      <td>0</td>\n",
       "    </tr>\n",
       "    <tr>\n",
       "      <th>138619</th>\n",
       "      <td>1.186.101.79:50613</td>\n",
       "      <td>GET https://paytm.com:443/shop/summary/1116587...</td>\n",
       "      <td>2015-07-22 10:47:06.893987</td>\n",
       "      <td>2015-07-22 10:47:01.782695</td>\n",
       "      <td>00:00:05.111292</td>\n",
       "      <td>0</td>\n",
       "    </tr>\n",
       "  </tbody>\n",
       "</table>\n",
       "</div>"
      ],
      "text/plain": [
       "               client:port                                            request  \\\n",
       "109956  1.186.101.79:50613  GET https://paytm.com:443/shop/wallet/txnhisto...   \n",
       "122788  1.186.101.79:50613  GET https://paytm.com:443/shop/v1/frequentorde...   \n",
       "134527  1.186.101.79:50613  POST https://paytm.com:443/papi/v1/expresscart...   \n",
       "136716  1.186.101.79:50613  POST https://paytm.com:443/api/v1/expresscart/...   \n",
       "138619  1.186.101.79:50613  GET https://paytm.com:443/shop/summary/1116587...   \n",
       "\n",
       "                        timestamp             prev_timestamp        interval  \\\n",
       "109956 2015-07-22 10:45:55.885488                        NaT             NaT   \n",
       "122788 2015-07-22 10:46:27.839734 2015-07-22 10:45:55.885488 00:00:31.954246   \n",
       "134527 2015-07-22 10:46:56.591943 2015-07-22 10:46:27.839734 00:00:28.752209   \n",
       "136716 2015-07-22 10:47:01.782695 2015-07-22 10:46:56.591943 00:00:05.190752   \n",
       "138619 2015-07-22 10:47:06.893987 2015-07-22 10:47:01.782695 00:00:05.111292   \n",
       "\n",
       "        new_session  \n",
       "109956            0  \n",
       "122788            0  \n",
       "134527            0  \n",
       "136716            0  \n",
       "138619            0  "
      ]
     },
     "execution_count": 5,
     "metadata": {},
     "output_type": "execute_result"
    }
   ],
   "source": [
    "# Define T as a session window of 15 minutes\n",
    "T = timedelta(seconds=15*60)\n",
    "\n",
    "dfIpReqTime['timestamp']= pd.to_datetime(dfIpReqTime['timestamp'])\n",
    "dfIpReqTime['prev_timestamp']= pd.to_datetime(dfIpReqTime['prev_timestamp'])\n",
    "dfIpReqTime['interval'] = (dfIpReqTime['timestamp'] - dfIpReqTime['prev_timestamp'])\n",
    "dfIpReqTime['new_session'] = ((dfIpReqTime['timestamp'] - dfIpReqTime['prev_timestamp'])>=T).astype(int)\n",
    "dfIpReqTime.head()\n"
   ]
  },
  {
   "cell_type": "code",
   "execution_count": 6,
   "metadata": {
    "collapsed": true
   },
   "outputs": [],
   "source": [
    "# create the session_id\n",
    "dfIpReqTime['increment'] = dfIpReqTime.groupby(\"client:port\")['new_session'].cumsum()\n",
    "dfIpReqTime['session_id'] = dfIpReqTime['client:port'].astype(str) + '_' + dfIpReqTime['increment'].astype(str)"
   ]
  },
  {
   "cell_type": "markdown",
   "metadata": {},
   "source": [
    "# Determine the average session time"
   ]
  },
  {
   "cell_type": "code",
   "execution_count": 7,
   "metadata": {
    "collapsed": false
   },
   "outputs": [
    {
     "data": {
      "text/html": [
       "<div>\n",
       "<table border=\"1\" class=\"dataframe\">\n",
       "  <thead>\n",
       "    <tr style=\"text-align: right;\">\n",
       "      <th></th>\n",
       "      <th>session_id</th>\n",
       "      <th>interval</th>\n",
       "    </tr>\n",
       "  </thead>\n",
       "  <tbody>\n",
       "    <tr>\n",
       "      <th>109956</th>\n",
       "      <td>1.186.101.79:50613_0</td>\n",
       "      <td>NaT</td>\n",
       "    </tr>\n",
       "    <tr>\n",
       "      <th>122788</th>\n",
       "      <td>1.186.101.79:50613_0</td>\n",
       "      <td>00:00:31.954246</td>\n",
       "    </tr>\n",
       "    <tr>\n",
       "      <th>134527</th>\n",
       "      <td>1.186.101.79:50613_0</td>\n",
       "      <td>00:00:28.752209</td>\n",
       "    </tr>\n",
       "    <tr>\n",
       "      <th>136716</th>\n",
       "      <td>1.186.101.79:50613_0</td>\n",
       "      <td>00:00:05.190752</td>\n",
       "    </tr>\n",
       "    <tr>\n",
       "      <th>138619</th>\n",
       "      <td>1.186.101.79:50613_0</td>\n",
       "      <td>00:00:05.111292</td>\n",
       "    </tr>\n",
       "  </tbody>\n",
       "</table>\n",
       "</div>"
      ],
      "text/plain": [
       "                  session_id        interval\n",
       "109956  1.186.101.79:50613_0             NaT\n",
       "122788  1.186.101.79:50613_0 00:00:31.954246\n",
       "134527  1.186.101.79:50613_0 00:00:28.752209\n",
       "136716  1.186.101.79:50613_0 00:00:05.190752\n",
       "138619  1.186.101.79:50613_0 00:00:05.111292"
      ]
     },
     "execution_count": 7,
     "metadata": {},
     "output_type": "execute_result"
    }
   ],
   "source": [
    "# Create a summary table\n",
    "dfSessionDuration= pd.DataFrame(dfIpReqTime[['session_id','interval']])\n",
    "\n",
    "dfSessionDuration.drop_duplicates(inplace=True)\n",
    "dfSessionDuration.head()"
   ]
  },
  {
   "cell_type": "code",
   "execution_count": 8,
   "metadata": {
    "collapsed": false
   },
   "outputs": [
    {
     "name": "stdout",
     "output_type": "stream",
     "text": [
      "Average session time is [Timedelta('0 days 00:25:52.742856')]\n"
     ]
    }
   ],
   "source": [
    "# Calculate average session time\n",
    "count= pd.value_counts( pd.value_counts(dfSessionDuration.session_id.unique()))\n",
    "sumAll= dfSessionDuration.interval.sum()\n",
    "\n",
    "totalNs=sumAll / np.timedelta64(1, 'ns')\n",
    "\n",
    "avg1= totalNs/count\n",
    "\n",
    "print(\"Average session time is {}\".format(list(pd.to_timedelta(avg1))))\n",
    "\n"
   ]
  },
  {
   "cell_type": "markdown",
   "metadata": {},
   "source": [
    "# Determine unique URL visits per session"
   ]
  },
  {
   "cell_type": "code",
   "execution_count": 10,
   "metadata": {
    "collapsed": false
   },
   "outputs": [
    {
     "data": {
      "text/plain": [
       "session_id\n",
       "1.186.101.79:50613_0      [POST https://paytm.com:443/api/v1/expresscart...\n",
       "1.186.101.79:50614_0      [GET https://paytm.com:443/shop/wallet/balance...\n",
       "1.186.101.79:50895_0      [GET https://paytm.com:443/shop/wallet/txnhist...\n",
       "1.186.101.79:50959_0      [GET https://paytm.com:443/shop/wallet/balance...\n",
       "1.186.101.79:50968_0      [GET https://paytm.com:443/paytmwallet HTTP/1....\n",
       "1.186.101.79:50991_0      [GET https://paytm.com:443/shop/cart?channel=w...\n",
       "1.186.101.79:50999_0      [GET https://paytm.com:443/shop/wallet/balance...\n",
       "1.186.103.240:65129_0     [GET https://paytm.com:443/shop/summary/111804...\n",
       "1.186.103.78:25143_0      [GET https://paytm.com:443/favicon.ico HTTP/1....\n",
       "1.186.108.213:62035_0     [GET https://paytm.com:443/shop/cart?channel=w...\n",
       "1.186.108.213:62110_0     [GET https://paytm.com:443/shop/user/address?c...\n",
       "1.186.108.230:53166_0     [GET https://paytm.com:443/shop/summary/undefi...\n",
       "1.186.108.242:50347_0     [GET https://paytm.com:443/shop/v1/frequentord...\n",
       "1.186.108.242:50350_0     [GET https://paytm.com:443/shop/cart?channel=w...\n",
       "1.186.108.28:51684_0      [GET https://paytm.com:443/offer/wp-content/pl...\n",
       "1.186.108.28:51685_0      [GET https://paytm.com:443/offer/wp-content/pl...\n",
       "1.186.108.28:51686_0      [GET https://paytm.com:443/offer/wp-content/pl...\n",
       "1.186.108.28:51687_0      [GET https://paytm.com:443/offer/wp-content/pl...\n",
       "1.186.108.28:51688_0      [GET https://paytm.com:443/offer/wp-content/pl...\n",
       "1.186.108.28:51689_0      [GET https://paytm.com:443/offer/wp-content/pl...\n",
       "1.186.108.29:54745_0      [GET https://paytm.com:443/shop/cart HTTP/1.1,...\n",
       "1.186.108.79:50931_0      [GET https://paytm.com:443/papi/nps/merchantra...\n",
       "1.186.108.79:50932_0      [GET https://paytm.com:443/papi/v1/promosearch...\n",
       "1.186.111.224:50065_0     [GET https://paytm.com:443/papi/rr/products/29...\n",
       "1.186.111.224:50066_0     [GET https://paytm.com:443/papi/v1/promosearch...\n",
       "1.186.111.224:50125_0     [GET https://paytm.com:443/papi/nps/merchantra...\n",
       "1.186.111.224:50126_0     [GET https://paytm.com:443/papi/rr/products/43...\n",
       "1.186.111.224:50387_0     [GET https://paytm.com:443/papi/nps/merchantra...\n",
       "1.186.111.224:50388_0     [GET https://paytm.com:443/papi/v1/promosearch...\n",
       "1.186.111.224:50389_0     [GET https://paytm.com:443/papi/rr/products/22...\n",
       "                                                ...                        \n",
       "98.138.142.8:38430_0      [GET https://paytm.com:443/shop/p/jockey-assor...\n",
       "98.138.142.8:38570_0      [GET https://paytm.com:443/shop/p/jockey-white...\n",
       "98.173.13.149:42588_0     [GET https://paytm.com:443/api/user/favourite?...\n",
       "98.173.13.149:43357_0     [GET https://paytm.com:443/shop/authresponse?c...\n",
       "98.210.14.253:62934_0     [GET https://paytm.com:443/shop/cart HTTP/1.1,...\n",
       "98.221.197.95:50185_0     [GET https://paytm.com:443/papi/nps/merchantra...\n",
       "98.221.197.95:50186_0     [GET https://paytm.com:443/papi/rr/products/64...\n",
       "98.221.197.95:50201_0     [GET https://paytm.com:443/shop/p/brijraj-mult...\n",
       "98.221.197.95:50202_0     [GET https://paytm.com:443/papi/v1/promosearch...\n",
       "98.221.197.95:50215_0     [GET https://paytm.com:443/papi/rr/products/43...\n",
       "98.221.197.95:50221_0     [GET https://paytm.com:443/papi/nps/merchantra...\n",
       "98.221.197.95:50222_0     [GET https://paytm.com:443/papi/nps/merchantra...\n",
       "98.221.197.95:50230_0     [GET https://paytm.com:443/papi/rr/products/12...\n",
       "98.230.153.173:46893_0    [GET https://paytm.com:443/offer/wp-content/pl...\n",
       "98.230.153.173:46906_0    [GET https://paytm.com:443/offer/wp-content/pl...\n",
       "98.230.153.173:46964_0    [GET https://paytm.com:443/offer/wp-content/pl...\n",
       "98.230.153.173:46965_0    [GET https://paytm.com:443/offer/wp-content/pl...\n",
       "98.230.153.173:46966_0    [GET https://paytm.com:443/offer/wp-content/pl...\n",
       "98.230.153.173:46967_0    [GET https://paytm.com:443/offer/wp-includes/j...\n",
       "98.230.153.173:46971_0    [GET https://paytm.com:443/offer/wp-content/pl...\n",
       "98.230.153.173:46972_0    [GET https://paytm.com:443/offer/wp-content/pl...\n",
       "98.230.153.173:46973_0    [GET https://paytm.com:443/offer/wp-content/pl...\n",
       "98.230.153.173:46974_0    [GET https://paytm.com:443/offer/wp-content/pl...\n",
       "98.230.153.173:55254_0    [GET https://paytm.com:443/shop/search?q=https...\n",
       "98.26.49.96:53049_0       [GET https://paytm.com:443/shop/cart HTTP/1.1,...\n",
       "99.231.50.46:52385_0                  [GET https://paytm.com:443/ HTTP/1.1]\n",
       "99.231.50.46:52392_0         [GET https://paytm.com:443/shop/cart HTTP/1.1]\n",
       "99.247.104.53:49233_0     [GET https://paytm.com:443/?utm_medium=affilia...\n",
       "99.247.104.53:49240_0        [GET https://paytm.com:443/shop/cart HTTP/1.1]\n",
       "99.8.170.3:60015_0                  [GET http://www.paytm.com:80/ HTTP/1.1]\n",
       "Name: request, dtype: object"
      ]
     },
     "execution_count": 10,
     "metadata": {},
     "output_type": "execute_result"
    }
   ],
   "source": [
    "np.set_printoptions(threshold=sys.maxsize, linewidth= np.inf)\n",
    "\n",
    "dfIpReqTime.groupby(['session_id'])['request'].apply(lambda x: list(set(x.unique().tolist())))"
   ]
  },
  {
   "cell_type": "markdown",
   "metadata": {},
   "source": [
    "# Find the most engaged users"
   ]
  },
  {
   "cell_type": "markdown",
   "metadata": {},
   "source": [
    "## Using the session duration"
   ]
  },
  {
   "cell_type": "code",
   "execution_count": 11,
   "metadata": {
    "collapsed": false
   },
   "outputs": [
    {
     "name": "stdout",
     "output_type": "stream",
     "text": [
      "Most engaged user is '106.186.23.95:35629' with the session id of '106.186.23.95:35629_1' and session duration of '0 days 18:28:30.415715' \n"
     ]
    }
   ],
   "source": [
    "# Most engaged user based on the longest session time\n",
    "client_id, duration =dfSessionDuration.loc[dfSessionDuration.interval.idxmax()]\n",
    "\n",
    "print (\"Most engaged user is '{}' with the session id of '{}' and session duration of '{}' \".\n",
    "       format(client_id.split(sep='_')[0], client_id,duration))"
   ]
  },
  {
   "cell_type": "markdown",
   "metadata": {},
   "source": [
    "## Using the number of session"
   ]
  },
  {
   "cell_type": "code",
   "execution_count": 12,
   "metadata": {
    "collapsed": false
   },
   "outputs": [
    {
     "data": {
      "text/plain": [
       "client:port                                     103.21.125.79:11676\n",
       "request           GET https://paytm.com:443/papi/v1/promosearch/...\n",
       "timestamp                                2015-07-22 21:08:28.711382\n",
       "prev_timestamp                           2015-07-22 17:40:44.350809\n",
       "interval                                     0 days 03:27:44.360573\n",
       "new_session                                                       1\n",
       "increment                                                         1\n",
       "session_id                                    103.21.125.79:11676_1\n",
       "Name: 1148093, dtype: object"
      ]
     },
     "execution_count": 12,
     "metadata": {},
     "output_type": "execute_result"
    }
   ],
   "source": [
    "dfIpReqTime.loc[dfIpReqTime.new_session.idxmax()]"
   ]
  },
  {
   "cell_type": "markdown",
   "metadata": {},
   "source": [
    "## Using the number of different URLs"
   ]
  },
  {
   "cell_type": "code",
   "execution_count": 13,
   "metadata": {
    "collapsed": false
   },
   "outputs": [
    {
     "data": {
      "text/plain": [
       "session_id\n",
       "1.186.101.79:50613_0    8\n",
       "1.186.101.79:50614_0    1\n",
       "1.186.101.79:50895_0    6\n",
       "1.186.101.79:50959_0    1\n",
       "1.186.101.79:50968_0    2\n",
       "Name: request, dtype: int64"
      ]
     },
     "execution_count": 13,
     "metadata": {},
     "output_type": "execute_result"
    }
   ],
   "source": [
    "#Calculate the number of different URLs for each session\n",
    "\n",
    "dfSummary= dfIpReqTime.groupby(['session_id'])['request'].apply(lambda x:len(list(set(x.unique().tolist()))))\n",
    "\n",
    "dfSummary.head()\n"
   ]
  },
  {
   "cell_type": "code",
   "execution_count": 30,
   "metadata": {
    "collapsed": false
   },
   "outputs": [
    {
     "name": "stdout",
     "output_type": "stream",
     "text": [
      "Most engaged user is '106.51.132.54:5048' with the session id of '106.51.132.54:5048_0' \n"
     ]
    }
   ],
   "source": [
    "sessionidWithGreatestURL=dfSummary.idxmax()\n",
    "print(\"Most engaged user is '{}' with the session id of '{}' \".format(sessionidWithGreatestURL.split(sep='_')[0], sessionidWithGreatestURL))"
   ]
  },
  {
   "cell_type": "code",
   "execution_count": null,
   "metadata": {
    "collapsed": true
   },
   "outputs": [],
   "source": []
  }
 ],
 "metadata": {
  "kernelspec": {
   "display_name": "Python 3",
   "language": "python",
   "name": "python3"
  },
  "language_info": {
   "codemirror_mode": {
    "name": "ipython",
    "version": 3
   },
   "file_extension": ".py",
   "mimetype": "text/x-python",
   "name": "python",
   "nbconvert_exporter": "python",
   "pygments_lexer": "ipython3",
   "version": "3.5.1"
  }
 },
 "nbformat": 4,
 "nbformat_minor": 0
}
